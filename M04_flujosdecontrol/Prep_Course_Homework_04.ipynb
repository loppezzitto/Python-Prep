{
 "cells": [
  {
   "cell_type": "code",
   "execution_count": null,
   "metadata": {},
   "outputs": [],
   "source": []
  },
  {
   "attachments": {},
   "cell_type": "markdown",
   "metadata": {},
   "source": [
    "## Flujos de Control"
   ]
  },
  {
   "attachments": {},
   "cell_type": "markdown",
   "metadata": {},
   "source": [
    "1) Crear una variable que contenga un elemento del conjunto de números enteros y luego imprimir por pantalla si es mayor o menor a cero"
   ]
  },
  {
   "cell_type": "code",
   "execution_count": 2,
   "metadata": {},
   "outputs": [
    {
     "name": "stdout",
     "output_type": "stream",
     "text": [
      "el numero es mayor a 0\n"
     ]
    }
   ],
   "source": [
    "i = 5\n",
    "\n",
    "if i<0:\n",
    "    print('el numero es menor a 0')\n",
    "elif i>0:\n",
    "    print('el numero es mayor a 0')\n",
    "else:\n",
    "    print('el numero es igual a 0')"
   ]
  },
  {
   "attachments": {},
   "cell_type": "markdown",
   "metadata": {},
   "source": [
    "2) Crear dos variables y un condicional que informe si son del mismo tipo de dato"
   ]
  },
  {
   "cell_type": "code",
   "execution_count": 1,
   "metadata": {},
   "outputs": [
    {
     "name": "stdout",
     "output_type": "stream",
     "text": [
      "Las variables son de tipos de dato diferentes\n"
     ]
    }
   ],
   "source": [
    "a = '2'\n",
    "b =  2\n",
    "\n",
    "if (type(a) == type(b)):\n",
    "    print('Las variables son del mismo tipo de dato')\n",
    "else:\n",
    "    print('Las variables son de tipos de dato diferentes')"
   ]
  },
  {
   "attachments": {},
   "cell_type": "markdown",
   "metadata": {},
   "source": [
    "3) Para los valores enteros del 1 al 20, imprimir por pantalla si es par o impar"
   ]
  },
  {
   "cell_type": "code",
   "execution_count": 2,
   "metadata": {},
   "outputs": [
    {
     "name": "stdout",
     "output_type": "stream",
     "text": [
      "el numero 1 es impar\n",
      "el numero 2 es par\n",
      "el numero 3 es impar\n",
      "el numero 4 es par\n",
      "el numero 5 es impar\n",
      "el numero 6 es par\n",
      "el numero 7 es impar\n",
      "el numero 8 es par\n",
      "el numero 9 es impar\n",
      "el numero 10 es par\n",
      "el numero 11 es impar\n",
      "el numero 12 es par\n",
      "el numero 13 es impar\n",
      "el numero 14 es par\n",
      "el numero 15 es impar\n",
      "el numero 16 es par\n",
      "el numero 17 es impar\n",
      "el numero 18 es par\n",
      "el numero 19 es impar\n",
      "el numero 20 es par\n"
     ]
    }
   ],
   "source": [
    "for i in range (1,21):\n",
    "    if i % 2 == 0:\n",
    "        print (f\"el numero {i} es par\")\n",
    "    else :\n",
    "        print (f\"el numero {i} es impar\")"
   ]
  },
  {
   "attachments": {},
   "cell_type": "markdown",
   "metadata": {},
   "source": [
    "4) En un ciclo for mostrar para los valores entre 0 y 5 el resultado de elevarlo a la potencia igual a 3"
   ]
  },
  {
   "cell_type": "code",
   "execution_count": 7,
   "metadata": {},
   "outputs": [
    {
     "name": "stdout",
     "output_type": "stream",
     "text": [
      "el valor elevado a la 3° potencia es igual a 0\n",
      "el valor elevado a la 3° potencia es igual a 1\n",
      "el valor elevado a la 3° potencia es igual a 8\n",
      "el valor elevado a la 3° potencia es igual a 27\n",
      "el valor elevado a la 3° potencia es igual a 64\n",
      "el valor elevado a la 3° potencia es igual a 125\n"
     ]
    }
   ],
   "source": [
    "for i in range (6):\n",
    "    print(f\"el valor elevado a la 3° potencia es igual a {i ** 3}\")"
   ]
  },
  {
   "attachments": {},
   "cell_type": "markdown",
   "metadata": {},
   "source": [
    "5) Crear una variable que contenga un número entero y realizar un ciclo for la misma cantidad de ciclos"
   ]
  },
  {
   "cell_type": "code",
   "execution_count": 8,
   "metadata": {},
   "outputs": [
    {
     "name": "stdout",
     "output_type": "stream",
     "text": [
      "0\n",
      "1\n",
      "2\n",
      "3\n",
      "4\n"
     ]
    }
   ],
   "source": [
    "a = 5\n",
    "\n",
    "for a in range (a):\n",
    "    print (a)"
   ]
  },
  {
   "attachments": {},
   "cell_type": "markdown",
   "metadata": {},
   "source": [
    "6) Utilizar un ciclo while para realizar el factorial de un número guardado en una variable, sólo si la variable contiene un número entero mayor a 0"
   ]
  },
  {
   "cell_type": "code",
   "execution_count": 32,
   "metadata": {},
   "outputs": [
    {
     "name": "stdout",
     "output_type": "stream",
     "text": [
      "el numero inicial es 7\n",
      "el numero que sigue es 6\n",
      "el factorial va en 42\n",
      "el numero que sigue es 5\n",
      "el factorial va en 210\n",
      "el numero que sigue es 4\n",
      "el factorial va en 840\n",
      "el numero que sigue es 3\n",
      "el factorial va en 2520\n",
      "el numero que sigue es 2\n",
      "el factorial va en 5040\n"
     ]
    }
   ],
   "source": [
    "n = 7\n",
    "\n",
    "if type(n) == int:\n",
    "    if n>0:\n",
    "        factorial = n\n",
    "        print(f\"el numero inicial es {n}\")\n",
    "        while n > 2:\n",
    "            n -= 1 # n = n -1\n",
    "            print(f\"el numero que sigue es {n}\")\n",
    "            factorial = factorial * n\n",
    "            print(f\"el factorial va en {factorial}\")\n",
    "        #print (f\"el factorial es igual a {factorial}\")\n",
    "    else:\n",
    "      print (\"la variable no es mayor que 0\")  \n",
    "else:\n",
    "    print (\"la variable no es un entero\")"
   ]
  },
  {
   "attachments": {},
   "cell_type": "markdown",
   "metadata": {},
   "source": [
    "7) Crear un ciclo for dentro de un ciclo while"
   ]
  },
  {
   "cell_type": "code",
   "execution_count": 35,
   "metadata": {},
   "outputs": [
    {
     "name": "stdout",
     "output_type": "stream",
     "text": [
      "Ciclo while numero 1\n",
      "Ciclo while numero 2\n",
      "-------------------Ciclo for numero 1\n",
      "Ciclo while numero 3\n",
      "-------------------Ciclo for numero 1\n",
      "-------------------Ciclo for numero 2\n",
      "Ciclo while numero 4\n",
      "-------------------Ciclo for numero 1\n",
      "-------------------Ciclo for numero 2\n",
      "-------------------Ciclo for numero 3\n"
     ]
    }
   ],
   "source": [
    "n =1\n",
    "\n",
    "while n < 5:\n",
    "    print (f\"Ciclo while numero {n}\")\n",
    "    for i in range (1,n):\n",
    "        print (f\"-------------------Ciclo for numero {i}\")\n",
    "    n+=1"
   ]
  },
  {
   "attachments": {},
   "cell_type": "markdown",
   "metadata": {},
   "source": [
    "8) Crear un ciclo while dentro de un ciclo for"
   ]
  },
  {
   "cell_type": "code",
   "execution_count": 37,
   "metadata": {},
   "outputs": [
    {
     "name": "stdout",
     "output_type": "stream",
     "text": [
      "Iteración 1 del bucle for exterior.\n",
      "    Iteración 1 del bucle while interior.\n",
      "    Iteración 2 del bucle while interior.\n",
      "Iteración 2 del bucle for exterior.\n",
      "    Iteración 1 del bucle while interior.\n",
      "    Iteración 2 del bucle while interior.\n",
      "Iteración 3 del bucle for exterior.\n",
      "    Iteración 1 del bucle while interior.\n",
      "    Iteración 2 del bucle while interior.\n"
     ]
    }
   ],
   "source": [
    "for i in range(3):  # Bucle for exterior\n",
    "    print(f\"Iteración {i + 1} del bucle for exterior.\")\n",
    "    j = 1\n",
    "    while j <= 2:  # Bucle while interior\n",
    "        print(f\"    Iteración {j} del bucle while interior.\")\n",
    "        j += 1\n"
   ]
  },
  {
   "attachments": {},
   "cell_type": "markdown",
   "metadata": {},
   "source": [
    "9) Imprimir los números primos existentes entre 0 y 30"
   ]
  },
  {
   "cell_type": "code",
   "execution_count": 41,
   "metadata": {},
   "outputs": [
    {
     "name": "stdout",
     "output_type": "stream",
     "text": [
      "2\n",
      "5\n",
      "7\n",
      "11\n",
      "13\n",
      "17\n",
      "19\n",
      "23\n",
      "29\n"
     ]
    }
   ],
   "source": [
    "primo = True \n",
    "n = 0\n",
    "while n<30:\n",
    "    if n <= 1:\n",
    "        primo = False\n",
    "    for divisor in range (2,n):\n",
    "        if n % divisor == 0:\n",
    "            primo = False\n",
    "    if primo == True:\n",
    "        print(n)\n",
    "        n += 1\n",
    "    else:\n",
    "        primo = True\n",
    "    n += 1"
   ]
  },
  {
   "attachments": {},
   "cell_type": "markdown",
   "metadata": {},
   "source": [
    "10) ¿Se puede mejorar el proceso del punto 9? Utilizar las sentencias break y/ó continue para tal fin"
   ]
  },
  {
   "cell_type": "code",
   "execution_count": 42,
   "metadata": {},
   "outputs": [
    {
     "name": "stdout",
     "output_type": "stream",
     "text": [
      "2\n",
      "5\n",
      "7\n",
      "11\n",
      "13\n",
      "17\n",
      "19\n",
      "23\n",
      "29\n"
     ]
    }
   ],
   "source": [
    "primo = True \n",
    "n = 0\n",
    "while n<30:\n",
    "    if n <= 1:\n",
    "        primo = False\n",
    "    for divisor in range (2,n):\n",
    "        if n % divisor == 0:\n",
    "            primo = False\n",
    "            break\n",
    "    if primo == True:\n",
    "        print(n)\n",
    "        n += 1\n",
    "    else:\n",
    "        primo = True\n",
    "    n += 1"
   ]
  },
  {
   "attachments": {},
   "cell_type": "markdown",
   "metadata": {},
   "source": [
    "11) En los puntos 9 y 10, se diseño un código que encuentra números primos y además se lo optimizó. ¿Es posible saber en qué medida se optimizó?"
   ]
  },
  {
   "cell_type": "code",
   "execution_count": null,
   "metadata": {},
   "outputs": [],
   "source": []
  },
  {
   "attachments": {},
   "cell_type": "markdown",
   "metadata": {},
   "source": [
    "12) Aplicando continue, armar un ciclo while que solo imprima los valores divisibles por 12, dentro del rango de números de 100 a 300"
   ]
  },
  {
   "cell_type": "code",
   "execution_count": null,
   "metadata": {},
   "outputs": [],
   "source": []
  },
  {
   "attachments": {},
   "cell_type": "markdown",
   "metadata": {},
   "source": [
    "13) Utilizar la función **input()** que permite hacer ingresos por teclado, para encontrar números primos y dar la opción al usario de buscar el siguiente"
   ]
  },
  {
   "cell_type": "code",
   "execution_count": null,
   "metadata": {},
   "outputs": [],
   "source": []
  },
  {
   "attachments": {},
   "cell_type": "markdown",
   "metadata": {},
   "source": [
    "14) Crear un ciclo while que encuentre dentro del rango de 100 a 300 el primer número divisible por 3 y además múltiplo de 6"
   ]
  },
  {
   "cell_type": "code",
   "execution_count": null,
   "metadata": {},
   "outputs": [],
   "source": []
  }
 ],
 "metadata": {
  "interpreter": {
   "hash": "c85384e4cb51c8b72350f3a8712cc8351fdc3955e32a27f9b60c6242ab125f01"
  },
  "kernelspec": {
   "display_name": "Python 3 (ipykernel)",
   "language": "python",
   "name": "python3"
  },
  "language_info": {
   "codemirror_mode": {
    "name": "ipython",
    "version": 3
   },
   "file_extension": ".py",
   "mimetype": "text/x-python",
   "name": "python",
   "nbconvert_exporter": "python",
   "pygments_lexer": "ipython3",
   "version": "3.11.5"
  }
 },
 "nbformat": 4,
 "nbformat_minor": 4
}
